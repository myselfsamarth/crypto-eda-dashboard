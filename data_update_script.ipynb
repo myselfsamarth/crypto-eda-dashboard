{
 "cells": [
  {
   "cell_type": "code",
   "execution_count": 11,
   "id": "609e81d0",
   "metadata": {},
   "outputs": [],
   "source": [
    "import os\n",
    "import glob\n",
    "import shutil\n",
    "import sys\n",
    "import pandas as pd\n",
    "from kaggle.api.kaggle_api_extended import KaggleApi"
   ]
  },
  {
   "cell_type": "code",
   "execution_count": 13,
   "id": "7f34573f",
   "metadata": {},
   "outputs": [
    {
     "name": "stdout",
     "output_type": "stream",
     "text": [
      "Dataset URL: https://www.kaggle.com/datasets/svaningelgem/crypto-currencies-daily-prices\n",
      "Warning: Failed to download from Kaggle (403 Client Error: Forbidden for url: https://www.kaggle.com/api/v1/datasets/download/svaningelgem/crypto-currencies-daily-prices?raw=false).\n",
      "Proceeding with files in 'raw_csv/incoming' and 'raw_csv/processed'.\n",
      "No new incoming files; using 106 files from processed_dir for full ingestion.\n",
      "Saved cleaned master with 212719 rows and 6 columns.\n"
     ]
    }
   ],
   "source": [
    "# --- 1. Authenticate with Kaggle ---\n",
    "api = KaggleApi()\n",
    "api.authenticate()\n",
    "\n",
    "# --- 2. Define directories ---\n",
    "raw_root      = 'raw_csv'\n",
    "incoming_dir  = os.path.join(raw_root, 'incoming')\n",
    "processed_dir = os.path.join(raw_root, 'processed')\n",
    "# Create directories if missing\n",
    "os.makedirs(incoming_dir, exist_ok=True)\n",
    "os.makedirs(processed_dir, exist_ok=True)\n",
    "\n",
    "# --- 3. Attempt Kaggle download to incoming_dir ---\n",
    "dataset = 'svaningelgem/crypto-currencies-daily-prices'\n",
    "try:\n",
    "    api.dataset_download_files(dataset, path=incoming_dir, unzip=True, force=False)\n",
    "except Exception as e:\n",
    "    print(f\"Warning: Failed to download from Kaggle ({e}).\\n\" \\\n",
    "          f\"Proceeding with files in '{incoming_dir}' and '{processed_dir}'.\")\n",
    "\n",
    "# --- 4. Collect raw CSV files ---\n",
    "raw_files = glob.glob(os.path.join(incoming_dir, '*.csv'))\n",
    "if not raw_files:\n",
    "    # Fall back to processed_dir for initial or full reprocessing\n",
    "    raw_files = glob.glob(os.path.join(processed_dir, '*.csv'))\n",
    "    if raw_files:\n",
    "        print(f\"No new incoming files; using {len(raw_files)} files from processed_dir for full ingestion.\")\n",
    "\n",
    "if not raw_files:\n",
    "    print(f\"Error: No CSV files found in '{incoming_dir}' or '{processed_dir}'.\\n\" \\\n",
    "          \"Please download or place raw CSVs accordingly.\")\n",
    "    sys.exit(1)\n",
    "\n",
    "# --- 5. Concatenate all raw CSV files ---\n",
    "df_list = [pd.read_csv(f) for f in raw_files]\n",
    "df = pd.concat(df_list, ignore_index=True)\n",
    "\n",
    "# --- 6. Clean and standardize data ---\n",
    "# Strip whitespace from column names\n",
    "df.columns = df.columns.str.strip()\n",
    "# Map core columns to consistent names\n",
    "target_map = {\n",
    "    'date':   'Date',   'ticker': 'Ticker',\n",
    "    'open':   'Open',   'high':   'High',\n",
    "    'low':    'Low',    'close':  'Close'\n",
    "}\n",
    "col_map = {col: target_map.get(col.lower(), col) for col in df.columns}\n",
    "df.rename(columns=col_map, inplace=True)\n",
    "# Parse dates\n",
    "df['Date'] = pd.to_datetime(df['Date'], errors='coerce')\n",
    "# Drop duplicates\n",
    "df.drop_duplicates(inplace=True)\n",
    "# Drop any 'Unnamed' auto-index columns\n",
    "unnamed = [c for c in df.columns if c.startswith('Unnamed')]\n",
    "if unnamed:\n",
    "    df.drop(columns=unnamed, inplace=True)\n",
    "\n",
    "# --- 7. Archive new incoming files only ---\n",
    "for f in glob.glob(os.path.join(incoming_dir, '*.csv')):\n",
    "    shutil.move(f, os.path.join(processed_dir, os.path.basename(f)))\n",
    "\n",
    "# --- 8. Save cleaned master file ---\n",
    "master_file = 'master_crypto_daily_prices.csv'\n",
    "sort_keys = [k for k in ['Ticker','Date'] if k in df.columns]\n",
    "if len(sort_keys) == 2:\n",
    "    df.sort_values(sort_keys, inplace=True)\n",
    "\n",
    "df.to_csv(master_file, index=False)\n",
    "print(f\"Saved cleaned master with {len(df)} rows and {len(df.columns)} columns.\")"
   ]
  }
 ],
 "metadata": {
  "kernelspec": {
   "display_name": "Python 3 (ipykernel)",
   "language": "python",
   "name": "python3"
  },
  "language_info": {
   "codemirror_mode": {
    "name": "ipython",
    "version": 3
   },
   "file_extension": ".py",
   "mimetype": "text/x-python",
   "name": "python",
   "nbconvert_exporter": "python",
   "pygments_lexer": "ipython3",
   "version": "3.11.4"
  }
 },
 "nbformat": 4,
 "nbformat_minor": 5
}
